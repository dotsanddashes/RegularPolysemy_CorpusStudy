{
 "cells": [
  {
   "cell_type": "code",
   "execution_count": 1,
   "metadata": {},
   "outputs": [],
   "source": [
    "from bs4 import BeautifulSoup"
   ]
  },
  {
   "cell_type": "code",
   "execution_count": 2,
   "metadata": {
    "scrolled": true
   },
   "outputs": [],
   "source": [
    "with open('ruwordnet/synset_relations.A.xml', 'r', encoding='utf-8') as f:\n",
    "    relations = BeautifulSoup(f, 'xml')\n",
    "\n",
    "with open('ruwordnet/synsets.A.xml', 'r', encoding='utf-8') as f:\n",
    "    synsets = BeautifulSoup(f, 'xml')"
   ]
  },
  {
   "cell_type": "code",
   "execution_count": 3,
   "metadata": {},
   "outputs": [],
   "source": [
    "def find_children(parent):\n",
    "    children = []\n",
    "    for relation in relations.find_all(attrs={'name': 'hyponym', 'parent_id': parent}):\n",
    "        children.append(relation.get('child_id'))\n",
    "    return children"
   ]
  },
  {
   "cell_type": "code",
   "execution_count": 4,
   "metadata": {},
   "outputs": [],
   "source": [
    "def extract_words(parent):\n",
    "    words = []\n",
    "    level1 = find_children(parent)\n",
    "    level2 = []\n",
    "    for idx in level1:\n",
    "        level2 = level2 + find_children(idx)\n",
    "    words_id = list(set(level1+level2))\n",
    "    for idx in words_id:\n",
    "        for sense in synsets.find(id = idx).find_all('sense'):\n",
    "            words.append(sense.text.lower())\n",
    "    return words"
   ]
  },
  {
   "cell_type": "code",
   "execution_count": 5,
   "metadata": {},
   "outputs": [],
   "source": [
    "metals = extract_words('97-A')\n",
    "\n",
    "del_words = ['самородковый', 'лигатурный', 'трансурановый']\n",
    "metals = [metal for metal in metals if not metal.endswith('содержащий') and not metal.endswith('металлический')\n",
    "          and not metal.endswith('идный') and not metal.endswith('земельный') and metal not in del_words]\n",
    "metals.append('металлический')"
   ]
  },
  {
   "cell_type": "code",
   "execution_count": 6,
   "metadata": {},
   "outputs": [],
   "source": [
    "f = open('metals.txt', 'w', encoding='utf-8')\n",
    "for metal in sorted(metals):\n",
    "    f.write(metal + '\\n')\n",
    "f.close()"
   ]
  },
  {
   "cell_type": "code",
   "execution_count": 7,
   "metadata": {},
   "outputs": [],
   "source": [
    "fruits = list(set(extract_words('107871-A')))\n",
    "fruits.append('плодовый')\n",
    "\n",
    "del_words = ['стручковый', 'косточковый']\n",
    "fruits = [fruit for fruit in fruits if fruit not in del_words]"
   ]
  },
  {
   "cell_type": "code",
   "execution_count": 8,
   "metadata": {},
   "outputs": [],
   "source": [
    "f = open('fruits.txt', 'w', encoding='utf-8')\n",
    "for fruit in sorted(fruits):\n",
    "    f.write(fruit + '\\n')\n",
    "f.close()"
   ]
  },
  {
   "cell_type": "code",
   "execution_count": 9,
   "metadata": {},
   "outputs": [],
   "source": [
    "minerals = extract_words('3417-A')\n",
    "minerals.append('минеральный')\n",
    "\n",
    "del_words = ['полудрагоценный', 'поделочный', 'камнесамоцветный', 'алмазно-бриллиантовый', 'силикатный', 'асбесто-технический']\n",
    "minerals = [mineral for mineral in minerals if mineral not in del_words]"
   ]
  },
  {
   "cell_type": "code",
   "execution_count": 10,
   "metadata": {},
   "outputs": [],
   "source": [
    "f = open('minerals.txt', 'w', encoding='utf-8')\n",
    "for mineral in sorted(minerals):\n",
    "    f.write(mineral + '\\n')\n",
    "f.close()"
   ]
  }
 ],
 "metadata": {
  "kernelspec": {
   "display_name": "Python 3",
   "language": "python",
   "name": "python3"
  },
  "language_info": {
   "codemirror_mode": {
    "name": "ipython",
    "version": 3
   },
   "file_extension": ".py",
   "mimetype": "text/x-python",
   "name": "python",
   "nbconvert_exporter": "python",
   "pygments_lexer": "ipython3",
   "version": "3.8.5"
  }
 },
 "nbformat": 4,
 "nbformat_minor": 4
}
