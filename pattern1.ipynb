{
 "cells": [
  {
   "cell_type": "code",
   "execution_count": 14,
   "metadata": {},
   "outputs": [],
   "source": [
    "# импорт функций поиска в корпусе и вспомогательных библиотек\n",
    "from search_functions import *\n",
    "from tqdm import tqdm\n",
    "import pickle"
   ]
  },
  {
   "cell_type": "code",
   "execution_count": 2,
   "metadata": {},
   "outputs": [],
   "source": [
    "# загрузка сохраненных списков прилагательных класса МЕТАЛЛЫ и класса МИНЕРАЛЫ\n",
    "with open('metals.txt', 'r', encoding='utf-8') as f:\n",
    "    metals = f.read().split('\\n')[:-1]\n",
    "with open('minerals.txt', 'r', encoding='utf-8') as f:\n",
    "    minerals = f.read().split('\\n')[:-1]"
   ]
  },
  {
   "cell_type": "code",
   "execution_count": 3,
   "metadata": {},
   "outputs": [],
   "source": [
    "# загрузка информации о сочетаемости, сохранение в виде словаря\n",
    "pattern = {}\n",
    "with open('compatibility1.txt', 'r', encoding='utf-8') as f:\n",
    "    lines = f.readlines()\n",
    "for line in lines:\n",
    "    line = line.replace('\\n', '')\n",
    "    sense_num = line.split(' ')[0]\n",
    "    pattern[sense_num] = line.split(' ')[1:]"
   ]
  },
  {
   "cell_type": "code",
   "execution_count": 4,
   "metadata": {},
   "outputs": [],
   "source": [
    "# получение информации о числе вхождений в корпус\n",
    "metal_freq = {}\n",
    "mineral_freq = {}\n",
    "\n",
    "for metal in metals:\n",
    "    frequency(metal, metal_freq)\n",
    "    \n",
    "for mineral in minerals:\n",
    "    frequency(mineral, mineral_freq)"
   ]
  },
  {
   "cell_type": "code",
   "execution_count": 5,
   "metadata": {},
   "outputs": [
    {
     "name": "stdout",
     "output_type": "stream",
     "text": [
      "No\n",
      "No\n"
     ]
    }
   ],
   "source": [
    "# проверяем, есть ли слова, не представленные в корпусе\n",
    "if 0 in metal_freq.values():\n",
    "    print('Yes')\n",
    "else:\n",
    "    print('No')\n",
    "if 0 in mineral_freq.values():\n",
    "    print('Yes')\n",
    "else:\n",
    "    print('No')"
   ]
  },
  {
   "cell_type": "code",
   "execution_count": 6,
   "metadata": {},
   "outputs": [],
   "source": [
    "# заготовка словаря, хранящего информацию о значениях\n",
    "senses = {}\n",
    "for metal in metals:\n",
    "    senses[metal] = []\n",
    "for mineral in minerals:\n",
    "    senses[mineral] = []"
   ]
  },
  {
   "cell_type": "code",
   "execution_count": 7,
   "metadata": {},
   "outputs": [],
   "source": [
    "# функция поиска значений\n",
    "def sense_search(word, sense_num):\n",
    "    i = 0\n",
    "    while sense_num not in senses[word] and i < len(pattern[sense_num]):\n",
    "        r = bigramm_search(word, pattern[sense_num][i])\n",
    "        if re.search('(\\d)+( вхожден.{2})', BeautifulSoup(r.text).get_text()) is not None:\n",
    "            senses[word].append(sense_num)\n",
    "        i += 1\n",
    "    return"
   ]
  },
  {
   "cell_type": "code",
   "execution_count": 10,
   "metadata": {},
   "outputs": [
    {
     "name": "stderr",
     "output_type": "stream",
     "text": [
      "100%|███████████████████████████████████████████████████████████████████████████████| 82/82 [9:18:27<00:00, 408.63s/it]\n"
     ]
    }
   ],
   "source": [
    "# поиск значений и сохранение в подготовленный словарь\n",
    "for word in tqdm(senses.keys()):\n",
    "    for k in pattern.keys():\n",
    "        sense_search(word, k)"
   ]
  },
  {
   "cell_type": "code",
   "execution_count": 11,
   "metadata": {
    "scrolled": false
   },
   "outputs": [
    {
     "name": "stdout",
     "output_type": "stream",
     "text": [
      "алюминиевый ['1.1', '1.2', '1.3', '1.4', '1.5.2', '1.7', '1.8', '2.1', '2.2', '2.4', '3.1']\n",
      "бариевый ['1.5.2']\n",
      "бериллиевый ['1.1', '1.2', '1.3']\n",
      "ванадиевый ['1.1', '1.2', '1.3', '1.5.1']\n",
      "висмутовый []\n",
      "вольфрамовый ['1.2', '1.3', '1.4', '1.5.1', '2.1']\n",
      "галлиевый ['1.2']\n",
      "гафниевый []\n",
      "германиевый []\n",
      "железный ['1.1', '1.2', '1.3', '1.4', '1.5.2', '1.7', '1.8', '2.1', '2.2', '2.3', '2.4', '3.1', '3.2', '6']\n",
      "золотой ['1.1', '1.2', '1.3', '1.4', '1.5.2', '1.7', '2.1', '2.2', '2.4', '3.1', '3.2', '4', '5', '6']\n",
      "индиевый ['1.3']\n",
      "кадмиевый ['1.3', '1.5.2', '1.6', '1.7', '2.1', '3.1']\n",
      "калиевый ['1.3', '1.5.2']\n",
      "калийный ['1.1', '1.2', '1.5.2']\n",
      "кальциевый ['1.3', '1.5.2']\n",
      "кобальтовый ['1.1', '1.2', '1.3', '1.4', '1.5.2', '2.1', '3.2']\n",
      "литиевый ['1.3', '1.4', '1.5.2', '2.4']\n",
      "магниевый ['1.1', '1.2', '1.3', '1.4', '1.5.2', '2.1']\n",
      "марганцевый ['1.1', '1.2', '1.3', '1.5.2', '2.1']\n",
      "марганцовый ['1.1', '1.2', '1.5.1', '1.5.2', '2.1']\n",
      "медный ['1.1', '1.2', '1.3', '1.4', '1.5.2', '1.6', '1.7', '2.1', '2.2', '2.3', '2.4', '3.1', '3.2', '6']\n",
      "металлический ['1.1', '1.2', '1.3', '1.4', '1.5.2', '1.6', '1.7', '2.1', '2.2', '2.3', '2.4', '3.1', '3.2', '4']\n",
      "молибденовый ['1.1', '1.2', '1.3', '1.5.1', '1.5.2', '2.1']\n",
      "натриевый ['1.1', '1.3', '1.5.2']\n",
      "никелевый ['1.1', '1.2', '1.3', '1.4', '1.5.2', '2.1', '2.2', '3.1']\n",
      "ниобиевый ['1.2', '1.3', '1.5.1']\n",
      "оловянный ['1.1', '1.2', '1.3', '1.4', '1.5.1', '1.5.2', '2.1', '2.2', '3.1', '4', '5']\n",
      "платиновый ['1.1', '1.2', '1.3', '1.4', '2.1', '3.1']\n",
      "плутониевый ['1.1', '1.3']\n",
      "радиевый ['1.1', '1.2', '1.5.2']\n",
      "рениевый []\n",
      "ртутный ['1.1', '1.2', '1.3', '1.5.2', '1.6', '2.1', '2.4']\n",
      "рубидиевый []\n",
      "свинцовый ['1.1', '1.2', '1.3', '1.4', '1.5.2', '1.6', '2.1', '2.2', '2.3', '2.4', '3.1', '6']\n",
      "серебряный ['1.1', '1.2', '1.3', '1.4', '1.5.2', '1.7', '1.8', '2.1', '2.2', '2.4', '3.1', '4', '5', '6']\n",
      "стальной ['1.1', '1.2', '1.3', '1.4', '1.7', '2.1', '2.2', '2.3', '2.4', '3.1', '3.2', '6']\n",
      "стронциевый ['1.3', '1.5.2']\n",
      "таллиевый []\n",
      "танталовый ['1.1', '1.2', '1.3']\n",
      "титановый ['1.1', '1.2', '1.3', '1.5.1', '3.1', '6']\n",
      "ториевый ['1.2']\n",
      "урановый ['1.1', '1.2', '1.3', '1.5.2', '3.1']\n",
      "хромистый ['1.2']\n",
      "хромовый ['1.1', '1.2', '1.3', '1.5.1', '1.5.2', '1.7', '2.1']\n",
      "цинковый ['1.1', '1.2', '1.3', '1.4', '1.5.2', '1.6', '2.1']\n",
      "циркониевый ['1.1', '1.2', '1.3']\n",
      "чугунный ['1.2', '1.3', '1.4', '2.1', '2.2', '2.4', '3.1', '3.2', '6']\n",
      "аквамариновый ['1.3', '2.1']\n",
      "алмазный ['1.1', '1.2', '1.3', '1.4', '2.1', '2.4', '3.2']\n",
      "аметистовый ['1.1', '1.3', '1.4', '2.1', '2.2']\n",
      "асбестовый ['1.1', '1.2', '1.3', '1.4', '1.7', '2.1']\n",
      "бирюзовый ['1.1', '1.2', '1.3', '2.1']\n",
      "бриллиантовый ['1.1', '1.2', '1.3', '1.4', '2.1', '2.4', '3.1', '5']\n",
      "брильянтовый ['1.2', '1.3', '1.4', '2.1', '2.4', '3.1']\n",
      "гранатовый ['1.1', '1.2', '1.3', '2.1', '3.1']\n",
      "графитный ['1.1', '1.2', '1.3', '2.1']\n",
      "графитовый ['1.1', '1.2', '1.3', '2.1']\n",
      "жемчужный ['1.1', '1.2', '1.3', '1.4', '2.1', '2.2', '2.4', '3.1']\n",
      "змеевиковый ['1.3']\n",
      "изумрудный ['1.1', '1.2', '1.3', '1.4', '2.1', '2.4', '3.1', '5']\n",
      "кварцевый ['1.1', '1.2', '1.3', '1.6', '2.1']\n",
      "корундовый ['1.2']\n",
      "лазуритовый ['1.3', '2.1']\n",
      "магнезитовый ['1.2']\n",
      "магнетитовый ['1.2', '1.3']\n",
      "малахитовый ['1.1', '1.2', '1.3', '2.1']\n",
      "минеральный ['1.1', '1.2', '1.3', '1.4', '1.5.1', '1.5.2', '2.1', '2.3']\n",
      "нефелиновый ['1.2', '1.3']\n",
      "нефритовый ['1.2', '1.3', '1.4']\n",
      "опаловый ['1.2', '1.3', '2.1']\n",
      "рубиновый ['1.1', '1.2', '1.3', '1.4', '2.1', '3.1', '5']\n",
      "сапфирный ['1.4']\n",
      "сапфировый ['1.2', '1.3', '2.1', '3.1']\n",
      "слюдяной ['1.1', '1.2', '1.3', '1.4', '2.1', '2.4']\n",
      "тальковый ['1.1', '1.2', '2.1']\n",
      "топазовый ['1.3', '2.1']\n",
      "халцедоновый ['1.3']\n",
      "хризолитовый ['1.3']\n",
      "шпинельный []\n",
      "янтарный ['1.1', '1.2', '1.3', '1.4', '1.5.1', '1.5.2', '2.1', '3.1']\n",
      "яшмовый ['1.2', '1.3', '2.1', '3.1']\n"
     ]
    }
   ],
   "source": [
    "# посмотрим на результаты поиска\n",
    "for k, v in senses.items():\n",
    "    print(k, v)"
   ]
  },
  {
   "cell_type": "code",
   "execution_count": 18,
   "metadata": {},
   "outputs": [],
   "source": [
    "# сортируем словари частотности\n",
    "def sort_dict(freq_dict):\n",
    "    sorted_dict = {}\n",
    "    for key in sorted(freq_dict, key=freq_dict.get):\n",
    "        sorted_dict[key] = freq_dict[key]\n",
    "    return sorted_dict\n",
    "\n",
    "sorted_metals = sort_dict(metal_freq)\n",
    "sorted_minerals = sort_dict(mineral_freq)"
   ]
  },
  {
   "cell_type": "code",
   "execution_count": 21,
   "metadata": {},
   "outputs": [
    {
     "name": "stdout",
     "output_type": "stream",
     "text": [
      "таллиевый\n",
      "гафниевый\n",
      "рениевый\n",
      "индиевый\n",
      "висмутовый\n",
      "стронциевый\n",
      "рубидиевый\n",
      "галлиевый\n",
      "марганцовый\n",
      "ванадиевый\n"
     ]
    }
   ],
   "source": [
    "# выведем десять самых редких металлов\n",
    "for k in list(sorted_metals.keys())[:10]:\n",
    "    print(k)"
   ]
  },
  {
   "cell_type": "code",
   "execution_count": 22,
   "metadata": {},
   "outputs": [
    {
     "name": "stdout",
     "output_type": "stream",
     "text": [
      "шпинельный\n",
      "халцедоновый\n",
      "корундовый\n",
      "лазуритовый\n",
      "магнезитовый\n",
      "хризолитовый\n",
      "змеевиковый\n",
      "сапфирный\n",
      "графитный\n",
      "нефелиновый\n"
     ]
    }
   ],
   "source": [
    "# выведем десять самых редких минералов\n",
    "for k in list(sorted_minerals.keys())[:10]:\n",
    "    print(k)"
   ]
  },
  {
   "cell_type": "code",
   "execution_count": 23,
   "metadata": {},
   "outputs": [],
   "source": [
    "# удаление значения 1.7 у прилагательных класса МЕТАЛЛЫ\n",
    "for metal in metals:\n",
    "    if '1.7' in senses[metal]:\n",
    "        senses[metal].remove('1.7')"
   ]
  },
  {
   "cell_type": "code",
   "execution_count": 24,
   "metadata": {},
   "outputs": [],
   "source": [
    "# удаление значения 1.8 у прилагательных класса МЕТАЛЛЫ\n",
    "for metal in metals:\n",
    "    if '1.8' in senses[metal]:\n",
    "        senses[metal].remove('1.8')"
   ]
  },
  {
   "cell_type": "code",
   "execution_count": 25,
   "metadata": {},
   "outputs": [],
   "source": [
    "# добавление результатов ручного поиска (МЕТАЛЛЫ)\n",
    "senses['таллиевый'].append('1.3')\n",
    "senses['гафниевый'].extend(['1.1', '1.3'])\n",
    "senses['рениевый'].extend(['1.3', '1.5.1'])\n",
    "senses['висмутовый'].extend(['1.1', '1.2', '1.3'])\n",
    "senses['стронциевый'].extend(['1.1', '1.6'])\n",
    "senses['рубидиевый'].extend(['1.1', '1.3', '1.5.2'])\n",
    "senses['галлиевый'].extend(['1.1', '1.3', '1.5.2'])\n",
    "senses['германиевый'].extend(['1.1', '1.2', '1.3', '1.5.2'])"
   ]
  },
  {
   "cell_type": "code",
   "execution_count": 26,
   "metadata": {},
   "outputs": [],
   "source": [
    "# удаление лишних значений (МЕТАЛЛЫ)\n",
    "senses['молибденовый'].remove('2.1')\n",
    "senses['вольфрамовый'].remove('2.1')\n",
    "senses['литиевый'].remove('2.4')\n",
    "senses['никелевый'].remove('3.1')\n",
    "senses['платиновый'].remove('3.1')\n",
    "senses['кадмиевый'].remove('3.1')\n",
    "senses['серебряный'].remove('3.1')\n",
    "senses['титановый'].remove('3.1')\n",
    "senses['урановый'].remove('3.1')\n",
    "senses['золотой'].remove('3.2')\n",
    "senses['кобальтовый'].remove('3.2')\n",
    "senses['медный'].remove('3.2')\n",
    "senses['металлический'].remove('4')\n",
    "senses['оловянный'].remove('4')\n",
    "senses['титановый'].remove('6')\n",
    "senses['чугунный'].remove('6')"
   ]
  },
  {
   "cell_type": "code",
   "execution_count": 27,
   "metadata": {},
   "outputs": [],
   "source": [
    "# добавление результатов ручного поиска (МИНЕРАЛЫ)\n",
    "senses['шпинельный'].append('1.1')\n",
    "senses['корундовый'].extend(['1.1', '1.3'])\n",
    "senses['магнезитовый'].extend(['1.1', '1.3', '1.5.2'])\n",
    "senses['хризолитовый'].append('2.1')\n",
    "senses['змеевиковый'].append('1.1')\n",
    "senses['змеевиковый'].remove('1.3')\n",
    "senses['сапфирный'].extend(['1.3', '2.1'])\n",
    "senses['графитный'].append('1.5.2')\n",
    "senses['нефелиновый'].append('1.1')"
   ]
  },
  {
   "cell_type": "code",
   "execution_count": 28,
   "metadata": {},
   "outputs": [],
   "source": [
    "# удаление значения 1.7 у прилагательного 'асбестовый'\n",
    "senses['асбестовый'].remove('1.7')"
   ]
  },
  {
   "cell_type": "code",
   "execution_count": 29,
   "metadata": {},
   "outputs": [],
   "source": [
    "# удаление лишних значений (МИНЕРАЛЫ)\n",
    "senses['кварцевый'].remove('2.1')\n",
    "senses['минеральный'].remove('2.1')\n",
    "senses['брильянтовый'].remove('2.4')\n",
    "senses['бриллиантовый'].remove('2.4')\n",
    "senses['жемчужный'].remove('2.4')\n",
    "senses['изумрудный'].remove('2.4')\n",
    "senses['слюдяной'].remove('2.4')\n",
    "senses['гранатовый'].remove('3.1')\n",
    "senses['изумрудный'].remove('3.1')\n",
    "senses['рубиновый'].remove('3.1')\n",
    "senses['сапфировый'].remove('3.1')\n",
    "senses['янтарный'].remove('3.1')\n",
    "senses['алмазный'].remove('3.2')"
   ]
  },
  {
   "cell_type": "code",
   "execution_count": 30,
   "metadata": {},
   "outputs": [],
   "source": [
    "# сохраняем словарь значений\n",
    "with open('senses_mm.pickle', 'wb') as f:\n",
    "    pickle.dump(senses, f)"
   ]
  },
  {
   "cell_type": "code",
   "execution_count": 31,
   "metadata": {},
   "outputs": [],
   "source": [
    "# сохраняем отсортированные словари частотности\n",
    "with open('metals_freq.pickle', 'wb') as f:\n",
    "    pickle.dump(sorted_metals, f)\n",
    "with open('minerals_freq.pickle', 'wb') as f:\n",
    "    pickle.dump(sorted_minerals, f)"
   ]
  }
 ],
 "metadata": {
  "kernelspec": {
   "display_name": "Python 3",
   "language": "python",
   "name": "python3"
  },
  "language_info": {
   "codemirror_mode": {
    "name": "ipython",
    "version": 3
   },
   "file_extension": ".py",
   "mimetype": "text/x-python",
   "name": "python",
   "nbconvert_exporter": "python",
   "pygments_lexer": "ipython3",
   "version": "3.8.5"
  }
 },
 "nbformat": 4,
 "nbformat_minor": 4
}
